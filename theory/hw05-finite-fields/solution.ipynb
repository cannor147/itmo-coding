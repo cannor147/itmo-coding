{
 "cells": [
  {
   "cell_type": "markdown",
   "id": "f72a57c9",
   "metadata": {},
   "source": [
    "# Вычисления в конечных полях"
   ]
  },
  {
   "cell_type": "markdown",
   "id": "9a6f6e4f",
   "metadata": {},
   "source": [
    "## Задание №1\n",
    "\n",
    "Пусть $a$ — примитивный корень $x^5 + x^2 + 1 \\mod 2$. Вычислить $a^{29} \\:/\\: (a^0 \\cdot a^{19} + 1)$."
   ]
  },
  {
   "cell_type": "code",
   "execution_count": 1,
   "id": "ebe74ab8",
   "metadata": {},
   "outputs": [
    {
     "data": {
      "text/plain": [
       "a + 1"
      ]
     },
     "execution_count": 1,
     "metadata": {},
     "output_type": "execute_result"
    }
   ],
   "source": [
    "F = GF(2)\n",
    "X.<x> = F[]\n",
    "modulus = x^5 + x^2 + 1\n",
    "\n",
    "K.<a> = GF(F.cardinality()^modulus.degree(), name='a', modulus=modulus)\n",
    "a^29 / (a^0 * a^19 + 1)"
   ]
  },
  {
   "cell_type": "markdown",
   "id": "b6b05fae",
   "metadata": {},
   "source": [
    "## Задание №2\n",
    "\n",
    "Вычислить $\\frac{x^9 + x^8 + x^6 + x^5 + x^3}{x^9 + x^8 + x^7 + x^5 + x^2 + x + 1} \\mod x^{10} + x^9 + x^8 + x^7 + x^6 + x^2 + 1$ в поле $GF(2)$."
   ]
  },
  {
   "cell_type": "code",
   "execution_count": 2,
   "id": "8432dda3",
   "metadata": {},
   "outputs": [
    {
     "data": {
      "text/plain": [
       "x^9 + x^8 + x^7 + x^5 + x^4 + x^3 + x^2 + x"
      ]
     },
     "execution_count": 2,
     "metadata": {},
     "output_type": "execute_result"
    }
   ],
   "source": [
    "X.<x> = GF(2)[]\n",
    "dividend = x^9 + x^8 + x^6 + x^5 + x^3\n",
    "divisor = x^9 + x^8 + x^7 + x^5 + x^2 + x + 1\n",
    "modulus = x^10 + x^9 + x^8 + x^7 + x^6 + x^2 + 1\n",
    "\n",
    "inversed_divisor = xgcd(modulus, divisor)[2]\n",
    "result = dividend * inversed_divisor % modulus\n",
    "result"
   ]
  }
 ],
 "metadata": {
  "kernelspec": {
   "display_name": "SageMath 9.5",
   "language": "sage",
   "name": "sagemath"
  },
  "language_info": {
   "codemirror_mode": {
    "name": "ipython",
    "version": 3
   },
   "file_extension": ".py",
   "mimetype": "text/x-python",
   "name": "python",
   "nbconvert_exporter": "python",
   "pygments_lexer": "ipython3",
   "version": "3.10.6"
  }
 },
 "nbformat": 4,
 "nbformat_minor": 5
}
