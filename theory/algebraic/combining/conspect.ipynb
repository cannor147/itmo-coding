{
 "cells": [
  {
   "cell_type": "markdown",
   "source": [
    "# Методы комбинации кодов\n"
   ],
   "metadata": {
    "collapsed": false,
    "pycharm": {
     "name": "#%% md\n"
    }
   }
  },
  {
   "cell_type": "markdown",
   "source": [
    "## Конструкция Плоткина\n",
    "\n",
    "Пусть есть коды $\\mathcal{C_1}(n, k_1, d_1)$ и $\\mathcal{C_2}(n, k_2, d_2)$. Тогда конструкцией Плоткина называется код\n",
    "\n",
    "$$\\mathcal{C}_P(2n, k_1+k_2, \\min(d_1, d_2)) = \\{(c_1 + c_2) +\\!\\!\\!\\!+ c_1 | c_1 \\in \\mathcal{C_1}, c_2 \\in \\mathcal{C_2}\\}$$\n",
    "\n",
    "Символом $+\\!\\!\\!+$ обозначается операция конкатенации векторов.\n",
    "\n",
    "Пусть $G_1$ это порождающая матрица кода $\\mathcal{C_1}$, а $G_2$ порождающая матрица кода $\\mathcal{C_2}$. Тогда порождающая матрица $G_P$ кода $\\mathcal{C}_P$ равна:\n",
    "\n",
    "$$G_P = \\begin{pmatrix}\n",
    "G_2 & 0\\\\\n",
    "G_1 & G_1\n",
    "\\end{pmatrix} \\sim \\begin{pmatrix}\n",
    "G_1 & G_1\\\\\n",
    "G_2 & 0\n",
    "\\end{pmatrix}$$\n",
    "\n",
    "Так же заметим, что аналогично текущей конструкции Плоткина, можно ввести идентичное определение, но в другую сторону (т.е. вместо конкатенации $(c_1 + c_2) +\\!\\!\\!\\!+ c_1$ использовать конкатенацию $c_1 +\\!\\!\\!\\!+ (c_1 + c_2)$). Тогда имеет место разговор о левой и правой конструкциях Плоткина. Соответственно, для этой версии порождающая матрица равна:\n",
    "\n",
    "$$G_P = \\begin{pmatrix}\n",
    "0 & G_2\\\\\n",
    "G_1 & G_1\n",
    "\\end{pmatrix} \\sim \\begin{pmatrix}\n",
    "G_1 & G_1\\\\\n",
    "0 & G_2\n",
    "\\end{pmatrix}$$"
   ],
   "metadata": {
    "collapsed": false,
    "pycharm": {
     "name": "#%% md\n"
    }
   }
  },
  {
   "cell_type": "code",
   "execution_count": 1,
   "outputs": [
    {
     "name": "stdout",
     "output_type": "stream",
     "text": [
      "[[1 1 1 1 1 1 0 0 0 0 0 0]\n",
      " [1 0 0 1 0 1 1 0 0 1 0 1]\n",
      " [0 1 0 1 1 1 0 1 0 1 1 1]\n",
      " [0 0 1 1 1 0 0 0 1 1 1 0]]\n"
     ]
    }
   ],
   "source": [
    "from algebraic.binary import binary_array\n",
    "from algebraic.combining import plotkin_construction\n",
    "\n",
    "g1 = binary_array([\n",
    "    [1, 0, 0, 1, 0, 1],\n",
    "    [0, 1, 0, 1, 1, 1],\n",
    "    [0, 0, 1, 1, 1, 0]\n",
    "])\n",
    "g2 = binary_array([[1, 1, 1, 1, 1, 1]])\n",
    "print(plotkin_construction(g1, g2))"
   ],
   "metadata": {
    "collapsed": false,
    "pycharm": {
     "name": "#%%\n"
    }
   }
  },
  {
   "cell_type": "markdown",
   "source": [
    "### Код Рида-Маллера\n",
    "\n",
    "Код Рида-Маллера может быть получен путём рекурсивного применения конструкции Плоткина. Пусть $RM(r, m)$ — код Рида-Маллера порядка $r$ с параметрами $(2^m, \\sum_{i=0}^r C_n^i, 2^{m - r})$. Тогда такой код может быть получен с помощью индукции:\n",
    "\n",
    "1. Код $RM(0, m)$ есть код с повторениями длины $2^m$.\n",
    "2. Код $RM(m, m)$ эквивалентен коду с единичной матрицей в качестве порождающей.\n",
    "3. Код $RM(r, m)$ может быть получен как применение конструкции Плоткина к кодам $RM(r, m - 1)$ и $RM(r - 1, m - 1)$."
   ],
   "metadata": {
    "collapsed": false,
    "pycharm": {
     "name": "#%% md\n"
    }
   }
  },
  {
   "cell_type": "code",
   "execution_count": 2,
   "outputs": [
    {
     "name": "stdout",
     "output_type": "stream",
     "text": [
      "[[1 1 1 1 0 0 0 0]\n",
      " [1 1 0 0 1 1 0 0]\n",
      " [1 0 1 0 1 0 1 0]\n",
      " [0 1 0 1 0 1 0 1]]\n"
     ]
    }
   ],
   "source": [
    "from algebraic.combining import reed_muller\n",
    "\n",
    "print(reed_muller(1, 3))"
   ],
   "metadata": {
    "collapsed": false,
    "pycharm": {
     "name": "#%%\n"
    }
   }
  },
  {
   "cell_type": "markdown",
   "source": [
    "## Прямое произведение кодов\n",
    "\n",
    "Пусть есть коды $\\mathcal{C_1}(n_1, k_1, d_1)$ и $\\mathcal{C_2}(n_2, k_2, d_2)$. Пусть $G_1$ это порождающая матрица кода $\\mathcal{C_1}$, а $G_2$ порождающая матрица кода $\\mathcal{C_2}$. Тогда прямым произведением кодов называется такой код $\\mathcal{C}_M(n_1 n_2, k_1 k_2, d_1 d_2)$, что его порождающая матрица равна $G_M = G_1 \\otimes G_2$."
   ],
   "metadata": {
    "collapsed": false,
    "pycharm": {
     "name": "#%% md\n"
    }
   }
  },
  {
   "cell_type": "code",
   "execution_count": 3,
   "outputs": [
    {
     "name": "stdout",
     "output_type": "stream",
     "text": [
      "[[1 1 0 0 0 0 0 0 0 0 0 0 1 1 0 0 0 0 0 0 1 1 0 0]\n",
      " [1 0 1 0 0 0 0 0 0 0 0 0 1 0 1 0 0 0 0 0 1 0 1 0]\n",
      " [0 1 0 1 0 0 0 0 0 0 0 0 0 1 0 1 0 0 0 0 0 1 0 1]\n",
      " [0 0 0 0 1 1 0 0 0 0 0 0 1 1 0 0 1 1 0 0 1 1 0 0]\n",
      " [0 0 0 0 1 0 1 0 0 0 0 0 1 0 1 0 1 0 1 0 1 0 1 0]\n",
      " [0 0 0 0 0 1 0 1 0 0 0 0 0 1 0 1 0 1 0 1 0 1 0 1]\n",
      " [0 0 0 0 0 0 0 0 1 1 0 0 1 1 0 0 1 1 0 0 0 0 0 0]\n",
      " [0 0 0 0 0 0 0 0 1 0 1 0 1 0 1 0 1 0 1 0 0 0 0 0]\n",
      " [0 0 0 0 0 0 0 0 0 1 0 1 0 1 0 1 0 1 0 1 0 0 0 0]]\n"
     ]
    }
   ],
   "source": [
    "from algebraic.combining import kron\n",
    "\n",
    "g1 = binary_array([\n",
    "    [1, 0, 0, 1, 0, 1],\n",
    "    [0, 1, 0, 1, 1, 1],\n",
    "    [0, 0, 1, 1, 1, 0]\n",
    "])\n",
    "g2 = reed_muller(1, 2)\n",
    "print(kron(g1, g2))"
   ],
   "metadata": {
    "collapsed": false,
    "pycharm": {
     "name": "#%%\n"
    }
   }
  }
 ],
 "metadata": {
  "kernelspec": {
   "display_name": "Python 3",
   "language": "python",
   "name": "python3"
  },
  "language_info": {
   "codemirror_mode": {
    "name": "ipython",
    "version": 2
   },
   "file_extension": ".py",
   "mimetype": "text/x-python",
   "name": "python",
   "nbconvert_exporter": "python",
   "pygments_lexer": "ipython2",
   "version": "2.7.6"
  }
 },
 "nbformat": 4,
 "nbformat_minor": 0
}