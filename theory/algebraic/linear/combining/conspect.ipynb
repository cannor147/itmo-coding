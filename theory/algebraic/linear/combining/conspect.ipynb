{
 "cells": [
  {
   "cell_type": "markdown",
   "source": [
    "# Методы комбинации линейных кодов\n"
   ],
   "metadata": {
    "collapsed": false
   }
  },
  {
   "cell_type": "markdown",
   "source": [
    "## Чередование кодов\n",
    "\n",
    "Чередованием кодов $\\mathcal{C_1}(n_1, k_1, d_1)$ и $\\mathcal{C_2}(n_2, k_2, d_2)$ называется код\n",
    "\n",
    "$$\\mathcal{C}_{+\\!\\!\\!+} (n_1 + n_2, k_1 + k_2, \\min(d_1, d_2)) = \\{c_1 +\\!\\!\\!\\!+\\: c_2 | c_1 \\in \\mathcal{C_1}, c_2 \\in \\mathcal{C_2}\\}$$\n",
    "\n",
    "Символом $+\\!\\!\\!+$ обозначается операция конкатенации векторов.\n",
    "\n",
    "Порождающая и проверочная матрицы такого кода равны:\n",
    "\n",
    "$$G_{+\\!\\!\\!+} = \\begin{pmatrix}\n",
    "G_1 & 0\\\\\n",
    "0 & G_2\n",
    "\\end{pmatrix}\n",
    "\\qquad\\qquad\n",
    "H_{+\\!\\!\\!+} = \\begin{pmatrix}\n",
    "H_1 & 0\\\\\n",
    "0 & H_2\n",
    "\\end{pmatrix}$$\n"
   ],
   "metadata": {
    "collapsed": false
   }
  },
  {
   "cell_type": "code",
   "execution_count": 1,
   "outputs": [
    {
     "name": "stdout",
     "output_type": "stream",
     "text": [
      "[[1 0 0 1 0 1 0 0 0 0 0 0]\n",
      " [0 1 0 1 1 1 0 0 0 0 0 0]\n",
      " [0 0 1 1 1 0 0 0 0 0 0 0]\n",
      " [0 0 0 0 0 0 1 1 1 1 1 1]]\n"
     ]
    }
   ],
   "source": [
    "from algebraic.linear.combining import code_concatenate\n",
    "from algebraic.binary import binary_array\n",
    "\n",
    "g1 = binary_array([\n",
    "    [1, 0, 0, 1, 0, 1],\n",
    "    [0, 1, 0, 1, 1, 1],\n",
    "    [0, 0, 1, 1, 1, 0]\n",
    "])\n",
    "g2 = binary_array([[1, 1, 1, 1, 1, 1]])\n",
    "print(code_concatenate(g1, g2))"
   ],
   "metadata": {
    "collapsed": false
   }
  },
  {
   "cell_type": "markdown",
   "source": [
    "## Прямая сумма кодов\n",
    "\n",
    "Прямой суммой кодов $\\mathcal{C_1}(n, k_1, d_1)$ и $\\mathcal{C_2}(n, k_2, d_2)$ называется код\n",
    "\n",
    "$$\\mathcal{C}_{+} (n, k_1 + k_2, \\le \\min(d_1, d_2)) = \\{c_1 + c_2 | c_1 \\in \\mathcal{C_1}, c_2 \\in \\mathcal{C_2}\\}$$\n",
    "\n",
    "Порождающая матрица такого кода равна:\n",
    "\n",
    "$$G_{+} = \\begin{pmatrix}\n",
    "G_1\\\\\n",
    "G_2\n",
    "\\end{pmatrix}$$\n"
   ],
   "metadata": {
    "collapsed": false
   }
  },
  {
   "cell_type": "code",
   "execution_count": 2,
   "outputs": [
    {
     "name": "stdout",
     "output_type": "stream",
     "text": [
      "[[1 0 0 1 0 1]\n",
      " [0 1 0 1 1 1]\n",
      " [0 0 1 1 1 0]\n",
      " [1 1 1 1 1 1]]\n"
     ]
    }
   ],
   "source": [
    "from algebraic.linear.combining import code_sum\n",
    "\n",
    "print(code_sum(g1, g2))"
   ],
   "metadata": {
    "collapsed": false
   }
  },
  {
   "cell_type": "markdown",
   "source": [
    "## Конструкция Плоткина\n",
    "\n",
    "Конструкцией Плоткина над кодами $\\mathcal{C_1}(n, k_1, d_1)$ и $\\mathcal{C_2}(n, k_2, d_2)$ называется код\n",
    "\n",
    "$$\\mathcal{C}_P (2 n, k_1 + k_2, \\min(d_1, d_2)) = \\{(c_1 + c_2) +\\!\\!\\!\\!+\\: c_1 | c_1 \\in \\mathcal{C_1}, c_2 \\in \\mathcal{C_2}\\}$$\n",
    "\n",
    "Порождающая матрица такого кода равна:\n",
    "\n",
    "$$G_P = \\begin{pmatrix}\n",
    "G_2 & 0\\\\\n",
    "G_1 & G_1\n",
    "\\end{pmatrix} \\sim \\begin{pmatrix}\n",
    "G_1 & G_1\\\\\n",
    "G_2 & 0\n",
    "\\end{pmatrix}$$\n",
    "\n",
    "Аналогично текущему определению конструкции Плоткина, можно ввести симметричное определение, взяв вместо конкатенации $(c_1 + c_2) +\\!\\!\\!\\!+\\: c_1$ конкатенацию $c_1 +\\!\\!\\!\\!+\\: (c_1 + c_2)$. Тогда имеет место разговор о левой и правой конструкциях Плоткина. Соответственно, для симметричной версии порождающая матрица равна:\n",
    "\n",
    "$$G_P = \\begin{pmatrix}\n",
    "0 & G_2\\\\\n",
    "G_1 & G_1\n",
    "\\end{pmatrix} \\sim \\begin{pmatrix}\n",
    "G_1 & G_1\\\\\n",
    "0 & G_2\n",
    "\\end{pmatrix}$$"
   ],
   "metadata": {
    "collapsed": false
   }
  },
  {
   "cell_type": "code",
   "execution_count": 3,
   "outputs": [
    {
     "name": "stdout",
     "output_type": "stream",
     "text": [
      "[[1 1 1 1 1 1 0 0 0 0 0 0]\n",
      " [1 0 0 1 0 1 1 0 0 1 0 1]\n",
      " [0 1 0 1 1 1 0 1 0 1 1 1]\n",
      " [0 0 1 1 1 0 0 0 1 1 1 0]]\n"
     ]
    }
   ],
   "source": [
    "from algebraic.linear.combining import plotkin_construction\n",
    "\n",
    "print(plotkin_construction(g1, g2))"
   ],
   "metadata": {
    "collapsed": false
   }
  },
  {
   "cell_type": "markdown",
   "source": [
    "### Код Рида-Маллера\n",
    "\n",
    "Код Рида-Маллера может быть получен путём рекурсивного применения конструкции Плоткина. Пусть $RM(r, m)$ — код Рида-Маллера порядка $r$ с параметрами $\\Bigl(2^m, \\sum_{i=0}^r C_n^i, 2^{m - r}\\Bigr)$. Тогда такой код может быть получен с помощью индукции:\n",
    "\n",
    "1. Код $RM(0, m)$ есть код с повторениями длины $2^m$.\n",
    "2. Код $RM(m, m)$ эквивалентен коду с единичной матрицей в качестве порождающей.\n",
    "3. Код $RM(r, m)$ может быть получен как применение конструкции Плоткина к кодам $RM(r, m - 1)$ и $RM(r - 1, m - 1)$."
   ],
   "metadata": {
    "collapsed": false
   }
  },
  {
   "cell_type": "code",
   "execution_count": 4,
   "outputs": [
    {
     "name": "stdout",
     "output_type": "stream",
     "text": [
      "[[1 1 1 1 0 0 0 0]\n",
      " [1 1 0 0 1 1 0 0]\n",
      " [1 0 1 0 1 0 1 0]\n",
      " [0 1 0 1 0 1 0 1]]\n"
     ]
    }
   ],
   "source": [
    "from algebraic.linear.combining import reed_muller\n",
    "\n",
    "print(reed_muller(1, 3))"
   ],
   "metadata": {
    "collapsed": false
   }
  },
  {
   "cell_type": "markdown",
   "source": [
    "## Прямое произведение кодов\n",
    "\n",
    "Пусть есть коды $\\mathcal{C_1}(n_1, k_1, d_1)$ и $\\mathcal{C_2}(n_2, k_2, d_2)$. Пусть $G_1$ это порождающая матрица кода $\\mathcal{C_1}$, а $G_2$ порождающая матрица кода $\\mathcal{C_2}$. Тогда прямым произведением кодов называется такой код $\\mathcal{C}_{\\otimes} (n_1 n_2, k_1 k_2, d_1 d_2)$, что его порождающая матрица равна $G_M = G_1 \\otimes G_2$."
   ],
   "metadata": {
    "collapsed": false
   }
  },
  {
   "cell_type": "code",
   "execution_count": 5,
   "outputs": [
    {
     "name": "stdout",
     "output_type": "stream",
     "text": [
      "[[1 1 1 1 1 1 0 0 0 0 0 0 0 0 0 0 0 0 1 1 1 1 1 1 0 0 0 0 0 0 1 1 1 1 1 1]\n",
      " [0 0 0 0 0 0 1 1 1 1 1 1 0 0 0 0 0 0 1 1 1 1 1 1 1 1 1 1 1 1 1 1 1 1 1 1]\n",
      " [0 0 0 0 0 0 0 0 0 0 0 0 1 1 1 1 1 1 1 1 1 1 1 1 1 1 1 1 1 1 0 0 0 0 0 0]]\n"
     ]
    }
   ],
   "source": [
    "from algebraic.linear.combining import code_mul\n",
    "\n",
    "print(code_mul(g1, g2))"
   ],
   "metadata": {
    "collapsed": false
   }
  },
  {
   "cell_type": "markdown",
   "source": [
    "## Каскадные коды\n",
    "\n",
    "Пусть у нас есть внутренний код $\\mathcal{C}_⧈ (n, k, d)$ над полем $GF(q)$ и внешний код $\\mathcal{C}_{\\square} (N, K, D)$ над полем $GF(q^k)$. Тогда можно каскадным принципом комбинировать такие коды, преобразуя кодовые слова из $\\mathcal{C}_{\\square}$ в векторы длины $k$. Полученная конструкция есть каскадный код $\\mathcal{C}_⧉ (N n, K k, D d)$ над полем $GF(q)$.\n",
    "\n",
    "### Кодирование\n",
    "\n",
    "Кодирование выполняется сначала внешним, затем внутренним кодом. При систематическом кодировании кодовое слово выглядит следующим образом:\n",
    "\n",
    "![Codeword of concatenated code](concatenated-codeword.png)\n",
    "\n",
    "Чаще всего внешний код используют для коррекции пакетных ошибок (например, с помощью кода Рида-Соломона), а внутренний код используют для корректировки случайных ошибок (циклические и свёрточные коды).\n",
    "\n",
    "### Декодирование\n",
    "\n",
    "Декодирование выполняется в обратном порядке: сначала внутренним кодом, затем внешним.\n",
    "\n",
    "### Обобщённые каскадные коды\n",
    "\n",
    "См. отдельный конспект"
   ],
   "metadata": {
    "collapsed": false
   }
  }
 ],
 "metadata": {
  "kernelspec": {
   "display_name": "Python 3",
   "language": "python",
   "name": "python3"
  },
  "language_info": {
   "codemirror_mode": {
    "name": "ipython",
    "version": 2
   },
   "file_extension": ".py",
   "mimetype": "text/x-python",
   "name": "python",
   "nbconvert_exporter": "python",
   "pygments_lexer": "ipython2",
   "version": "2.7.6"
  }
 },
 "nbformat": 4,
 "nbformat_minor": 0
}
