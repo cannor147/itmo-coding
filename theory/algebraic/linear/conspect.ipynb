{
 "cells": [
  {
   "cell_type": "markdown",
   "metadata": {
    "collapsed": false
   },
   "source": [
    "# Линейные коды"
   ]
  },
  {
   "cell_type": "markdown",
   "metadata": {
    "collapsed": false
   },
   "source": [
    "## Терминология\n",
    "\n",
    "Линейный блоковый код это блоковый код, преобразующий $k$-мерное подпространство $\\mathbb{F}_q^k$ в элементы $n$-мерного векторное пространства $\\mathbb{F}_q^n$ над полем $\\mathbb{F}_q$. Такой линейный код характеризуется длиной $n$, размерностью $k$ и арностью $q$. При $q = 2$ линейный блоковый код называется двоичным. Параметр $R = \\frac{k}{n}$ называется скоростью кода.\n",
    "\n",
    "Отображение $\\operatorname{encoding} : \\mathbb{F}^k_q \\rightarrow \\mathbb{F}^n_q$ описывает процессом кодирования, в то время как $\\operatorname{decoding} : \\mathbb{F}^n_q \\rightarrow \\mathbb{F}^k_q$ описывает процесс декодирования. При кодировании мы вносим избыточную информацию, добавляя проверочные $n - k$ символов. Эти же проверочные символы позволяют учитывать возможные ошибки в кодовых словах и исправлять их."
   ]
  },
  {
   "cell_type": "markdown",
   "metadata": {
    "collapsed": false
   },
   "source": [
    "## Порождающая и проверочная матрица\n",
    "\n",
    "Рассмотрим два вектора таких, что $w \\in \\mathbb{F}^k_q $ и $c \\in \\mathbb{F}^n_q$. Тогда преобразование можно рассматривать как умножение вектора на матрицу, а именно:\n",
    "\n",
    "$$c = w \\cdot \\underset{k \\times n}{G}$$\n",
    "\n",
    "Матрица $G$ называется порождающей матрицей. Проверочной же матрицей называется такая матрица $H$, которая удовлетворяет условию:\n",
    "\n",
    "$$\\underset{k \\times n}{G} \\cdot \\underset{n \\times (n - k)}{H^T} = 0$$\n",
    "\n",
    "Слово $c \\in \\mathbb{F}^n_q$ является кодовым тогда и только тогда, когда $c \\cdot H^T = 0$.\n",
    "\n",
    "На матрицы $G$ и $H$ накладывается ограничение, что они не содержат линейно зависимых строк или нулевых столбцов. В противном случае длина/размерность кода не может быть отождествлена с количеством столбцов/строк в матрице $G$. Всякую порождающую/проверочную матрицу кода можно привести к такому виду, чтобы выполнялись эти ограничения, и при этом они всё ещё оставались порождающими/проверочными матрицами этого же кода."
   ]
  },
  {
   "cell_type": "markdown",
   "metadata": {
    "collapsed": false
   },
   "source": [
    "## Нахождение порождающей и проверочной матриц\n",
    "\n",
    "Пусть у нас существуют матрицы $G'$ и $H'$ такие, что $G' = [I_k | S]$ и $H' = [-S^T | I_{n-k}]$, где $S$ — некоторая матрица, а $I_k$ — единичная матрица размерности $k$. Нетрудно показать, что $G' \\cdot {H'}^T = 0$.\n",
    "\n",
    "Тогда путём линейных преобразований можно научиться строить соответствующие матрицы для $G$ и $H$. Для построения $G'$ воспользуемся методом Гаусса. В процессе метода Гаусса мы будем выполнять линейные преобразования над строками (что не поменяет наш код) и перестановку столбцов. Тогда будем считать, что $G' = G \\cdot P_G$, где $P_G$ — матрица перестановки. Аналогично и для $H'$ (в конце единичную матрицу можно переставить в конец). Для неё введём $P_H$ такую, что $H' = H \\cdot P_H$.\n",
    "\n",
    "Зная, что $(G \\cdot P_G) \\cdot (P_G^{-1} \\cdot H^T) = G \\cdot H^T = 0 = G' \\cdot {H'}^T = (G \\cdot P_G) \\cdot {H'}^T$, получаем, что $(P_G^{-1} \\cdot H^T) = {H'}^T$, откуда следует, что $H = H' \\cdot P_G$.\n",
    "\n",
    "Аналогично зная, что $(G' \\cdot P_H) \\cdot (P_H^{-1} \\cdot {H'}^T) = G' \\cdot {H'}^T = 0 = G \\cdot H^T = G \\cdot (P_H^{-1} \\cdot {H'}^T)$, получаем, что $G = G' \\cdot P_H$."
   ]
  },
  {
   "cell_type": "code",
   "execution_count": 1,
   "metadata": {
    "collapsed": false
   },
   "outputs": [
    {
     "name": "stdout",
     "output_type": "stream",
     "text": [
      "[[1 1 1 1 1 1 1 1]\n",
      " [1 1 1 1 0 0 0 0]\n",
      " [1 1 0 0 1 1 0 0]\n",
      " [1 0 1 0 1 0 1 0]]\n"
     ]
    }
   ],
   "source": [
    "from algebraic.binary import binary_array\n",
    "\n",
    "reed_muller_mt = binary_array([\n",
    "    [1, 1, 1, 1, 1, 1, 1, 1],\n",
    "    [1, 1, 1, 1, 0, 0, 0, 0],\n",
    "    [1, 1, 0, 0, 1, 1, 0, 0],\n",
    "    [1, 0, 1, 0, 1, 0, 1, 0],\n",
    "])\n",
    "print(reed_muller_mt)"
   ]
  },
  {
   "cell_type": "code",
   "execution_count": 2,
   "metadata": {
    "collapsed": false
   },
   "outputs": [
    {
     "name": "stdout",
     "output_type": "stream",
     "text": [
      "[[1 1 1 1 0 0 0 0]\n",
      " [0 0 1 1 1 1 0 0]\n",
      " [1 0 1 0 1 0 1 0]\n",
      " [1 0 0 1 1 0 0 1]]\n"
     ]
    }
   ],
   "source": [
    "from algebraic.linear import gen_to_check\n",
    "\n",
    "h = gen_to_check(g=reed_muller_mt)\n",
    "print(h)"
   ]
  },
  {
   "cell_type": "code",
   "execution_count": 3,
   "metadata": {
    "collapsed": false
   },
   "outputs": [
    {
     "name": "stdout",
     "output_type": "stream",
     "text": [
      "[[1 1 1 1 0 0 0 0]\n",
      " [0 0 1 1 1 1 0 0]\n",
      " [1 0 1 0 1 0 1 0]\n",
      " [1 0 0 1 1 0 0 1]]\n"
     ]
    }
   ],
   "source": [
    "from algebraic.linear import check_to_gen\n",
    "\n",
    "g = check_to_gen(h=reed_muller_mt)\n",
    "print(g)"
   ]
  },
  {
   "cell_type": "markdown",
   "metadata": {
    "collapsed": false
   },
   "source": [
    "## Минимальное расстояние\n",
    "\n",
    "Расстояние Хэмминга между векторами $x$ и $y$ — количество позиций, в которых вектора $x$ и $y$ отличаются: $d_H(x, y) = | \\{ i | x_i \\neq y_i \\} |$.\n",
    "\n",
    "Пусть у нас есть код $\\mathcal{C}$. Будем называть минимальным расстоянием $d = \\min_{x \\in \\mathcal{C}, y \\in \\mathcal{C} \\setminus \\{x\\}} d_H(x, y)$.\n",
    "\n",
    "Минимальное расстояние кода равно $d$ тогда и только тогда, когда любое подмножество $C$ столбцов матрицы $H$ линейно независимо, если $|C| < d$, и при этом существует линейно зависимое подмножество, для которого $|C| \\ge d$."
   ]
  },
  {
   "cell_type": "markdown",
   "source": [
    "### Исправления и стирания\n",
    "\n",
    "Минимальное расстояние кода говорит о том, насколько вектора из $encoding(\\mathbb{F}^k_q)$ отличаются в пространстве $\\mathbb{F}^n_q$. Если мы допустим $t$ ошибок в полученном кодовом слове, то мы можем отойти от исходного кодового слова на расстояние не большее, чем $t$, и при этом приблизится к другим кодовым словам на расстояние не больше, чем $t$. Если мы хотим, чтобы ошибки были исправлены, то необходимо, чтобы наш код имел расстояние $d \\ge 2t + 1$ (но необязательно достаточно).\n",
    "\n",
    "Также необходимо рассмотреть такую проблему как стирания. Если мы преобразуем наш вектор размера $n$ в вектор размера $n-v$, выкинув случайные элементы вектора, то тем самым отойдём от исходного кодового слова на расстояние $v$, но при этом ни к каким другим кодовым словам не приблизимся. Отсюда можно сделать вывод, что чтобы код с минимальным расстоянием $d$ исправляет $t$ ошибок и $v$ стираний необходимо, чтобы $d \\ge 2t + v + 1$ (но необязательно достаточно)."
   ],
   "metadata": {
    "collapsed": false
   }
  },
  {
   "cell_type": "markdown",
   "metadata": {
    "collapsed": false
   },
   "source": [
    "## Ограничения линейных кодов\n",
    "\n",
    "Опираясь на различные свойства кодов, можно определить некоторые взаимные ограничения на параметры $n$, $k$, $d$ и $q$. В дальнейшем большими буквами $N$, $K$ и т.д. будем обозначать функции соответствующих параметров, зависящие от прочих параметров.\n",
    "\n",
    "Введём так же определение мощности кода $A_q$ как числа кодовых слов. Для линейного кода число слов равно $A_q(k) = q^k$."
   ]
  },
  {
   "cell_type": "markdown",
   "metadata": {
    "collapsed": false
   },
   "source": [
    "### Граница Синглтона\n",
    "\n",
    "Для любого блокового кода верно:\n",
    "\n",
    "$$A_q(n, d) \\le q^{n - d + 1}$$"
   ]
  },
  {
   "cell_type": "code",
   "execution_count": 4,
   "metadata": {
    "collapsed": false
   },
   "outputs": [
    {
     "name": "stdout",
     "output_type": "stream",
     "text": [
      "A₂(19, 3) ≤ 131072\n"
     ]
    }
   ],
   "source": [
    "from algebraic.linear.singleton import singleton_bound\n",
    "\n",
    "max_value = singleton_bound(q=2, n=19, d=3)\n",
    "print(\"A₂(19, 3) ≤ \" + str(max_value))"
   ]
  },
  {
   "cell_type": "markdown",
   "metadata": {
    "collapsed": false
   },
   "source": [
    "### Граница Хэмминга\n",
    "\n",
    "Если для блокового кода верно, что $d = 2t + 1$, то:\n",
    "\n",
    "$$A_q(n, d) \\le \\frac{q^n}{\\sum_{i = 0}^{t} C_n^i (q - 1)^i}$$"
   ]
  },
  {
   "cell_type": "code",
   "execution_count": 5,
   "metadata": {
    "collapsed": false
   },
   "outputs": [
    {
     "name": "stdout",
     "output_type": "stream",
     "text": [
      "A₂(19, 3) ≤ 26214.4\n"
     ]
    }
   ],
   "source": [
    "from algebraic.linear.hamming import hamming_bound\n",
    "\n",
    "max_value = hamming_bound(q=2, n=19, d=3)\n",
    "print(\"A₂(19, 3) ≤ \" + str(max_value))"
   ]
  },
  {
   "cell_type": "markdown",
   "metadata": {
    "collapsed": false
   },
   "source": [
    "### Граница Варшамова-Гилберта\n",
    "\n",
    "Существует блоковый код, удовлетворяющий неравенству:\n",
    "\n",
    "$$A_q(n, d) \\ge \\frac{q^n}{\\sum_{i=0}^{d-1} C_n^i (q-1)^i}$$\n",
    "\n",
    "### Граница Варшамова-Гилберта для линейных кодов\n",
    "\n",
    "Существует линейный блоковый код с числом слов $A_q(n, d) \\ge q^k$, где $k$ — наибольшее целое число, такое что:\n",
    "\n",
    "$$q^k \\le \\frac{q^n}{\\sum_{i=0}^{d-2} C_{n-1}^i (q-1)^i}$$"
   ]
  },
  {
   "cell_type": "code",
   "execution_count": 6,
   "metadata": {
    "collapsed": false
   },
   "outputs": [
    {
     "name": "stdout",
     "output_type": "stream",
     "text": [
      "A₂(19, 3) ≥ 16384\n"
     ]
    }
   ],
   "source": [
    "from algebraic.linear.gilbert_varshamov import gilbert_varshamov_bound\n",
    "\n",
    "max_value = gilbert_varshamov_bound(q=2, n=19, d=3)\n",
    "print(\"A₂(19, 3) ≥ \" + str(max_value))"
   ]
  },
  {
   "cell_type": "markdown",
   "metadata": {
    "collapsed": false
   },
   "source": [
    "### Граница Грайсмера\n",
    "\n",
    "Для двоичного линейного кода верно:\n",
    "\n",
    "$$N(k, d) \\ge d + N\\Bigl(k - 1, \\Bigl\\lceil\\frac{d}{2}\\Bigr\\rceil\\Bigr)$$"
   ]
  },
  {
   "cell_type": "code",
   "execution_count": 7,
   "metadata": {
    "collapsed": false
   },
   "outputs": [
    {
     "name": "stdout",
     "output_type": "stream",
     "text": [
      "N(14, 5) ≥ 21\n"
     ]
    }
   ],
   "source": [
    "from algebraic.linear.griesmer import griesmer_bound\n",
    "\n",
    "max_value = griesmer_bound(k=14, d=5)\n",
    "print(\"N(14, 5) ≥ \" + str(max_value))"
   ]
  },
  {
   "cell_type": "markdown",
   "source": [
    "## Дуальный код\n",
    "\n",
    "Дуальный код $\\bar{\\mathcal{C}}$ для линейного кода $\\mathcal{C}$ это такой код, что $H_{\\bar{\\mathcal{C}}} = G_{\\mathcal{C}}$. Отсюда следует, что $\\forall c \\in \\mathcal{C}, \\bar{c} \\in \\bar{\\mathcal{C}} : c \\cdot \\bar{c} = 0$. Если $\\mathcal{C} = \\bar{\\mathcal{C}}$, то такой код называется самодуальным."
   ],
   "metadata": {
    "collapsed": false
   }
  },
  {
   "cell_type": "markdown",
   "source": [
    "### Преобразование Адамара для дуальных кодов\n",
    "\n",
    "Допустим, есть некоторое отображение $f: \\mathbb{F}_2^n \\rightarrow \\mathbb{R}$. Преобразованием Адамара этого отображения называется функция высшего порядка $\\hat{f}(u) = \\sum_{v \\in \\mathbb{F}_2^n}(-1)^{u v} \\cdot f(v)$. Тогда выполняется следующее утверждение:\n",
    "\n",
    "$$\\sum_{\\bar{c} \\in \\bar{\\mathcal{C}}} f(\\bar{c}) = \\frac{1}{|\\mathcal{C}|} \\sum_{c \\in \\mathcal{C}} \\hat{f}(c)$$.\n",
    "\n",
    "Доказательство:\n",
    "\n",
    "\\begin{equation*}\n",
    "\\begin{gathered}\n",
    "\\frac{1}{|\\mathcal{C}|} \\sum_{c \\in \\mathcal{C}} \\hat{f}(c) =\n",
    "\\frac{1}{|\\mathcal{C}|} \\sum_{c \\in C} \\sum_{w \\in \\mathbb{F}_2^n} (-1)^{<c, w>} f(w) =\n",
    "\\frac{1}{|\\mathcal{C}|} \\sum_{w \\in \\mathbb{F}_2^n} f(w) \\sum_{c \\in C}  (-1)^{<c, w>} = \\\\ =\n",
    "\\frac{1}{|\\mathcal{C}|} \\left(\\sum_{\\bar{c} \\in \\bar{\\mathcal{C}}} f(\\bar{c}) |C| + \\sum_{w \\in \\mathbb{F}_2^n \\setminus \\bar{\\mathcal{C}}} f(w) \\sum_{c \\in C}  (-1)^{<c, w>} \\right) =\n",
    "\\frac{\\sum_{\\bar{c} \\in \\bar{\\mathcal{C}}} f(\\bar{c}) |\\mathcal{C}|}{|\\mathcal{C}|} =\n",
    "\\sum_{\\bar{c} \\in \\bar{\\mathcal{C}}} f(\\bar{c})\n",
    "\\end{gathered}\n",
    "\\end{equation*}\n",
    "\n",
    "Предпоследний переход верный, поскольку в любом двоичном коде $\\mathcal{C}(n, k)$ количество слов $c \\in \\mathcal{C}$ таких, что $c_i = 1$ либо $0$, либо $2^{k - 1}$ (и аналогично для $c_i = 0$), а следовательно второе слагаемое в скобке будет равно $0$.\n"
   ],
   "metadata": {
    "collapsed": false
   }
  }
 ],
 "metadata": {
  "kernelspec": {
   "display_name": "Python 3",
   "language": "python",
   "name": "python3"
  },
  "language_info": {
   "codemirror_mode": {
    "name": "ipython",
    "version": 2
   },
   "file_extension": ".py",
   "mimetype": "text/x-python",
   "name": "python",
   "nbconvert_exporter": "python",
   "pygments_lexer": "ipython2",
   "version": "2.7.6"
  }
 },
 "nbformat": 4,
 "nbformat_minor": 0
}
