{
 "cells": [
  {
   "cell_type": "markdown",
   "source": [
    "# Обобщённые каскадные коды"
   ],
   "metadata": {
    "collapsed": false
   }
  },
  {
   "cell_type": "markdown",
   "source": [
    "## Терминология\n",
    "\n",
    "Пусть у нас есть $s$ кодов внутренних $\\mathcal{C}_⧈^{(i)} (n, k_i, d_i)$ над полем $GF(q)$, а также $s$ внешних кодов $\\mathcal{C}_{\\square}^{(i)} (N, K_i, D_i)$ над полями $GF(q^{m_i})$ таких, что:\n",
    "\n",
    "* $k_i - k_{i + 1} = m_i$\n",
    "* Код $\\mathcal{C}_{⧈}^{(i)}$ порождён последними $k_i$ строками матрицы $G_⧈$ (см. рисунок ниже)\n",
    "\n",
    "![Matrix of inner codes](gcc-matrix.png)\n",
    "\n",
    "Тогда комбинируя коды каскадным принципов, получим обобщённый каскадный код (сокр. ОКК) $\\mathcal{C}_⧉ (N n, \\sum_{i = 1}^s K_i m_i, \\ge \\min_{1 \\le i \\le s} d_i D_i)$. Подробнее про принципы см. ниже."
   ],
   "metadata": {
    "collapsed": false
   }
  },
  {
   "cell_type": "markdown",
   "source": [
    "## Кодирование\n",
    "\n",
    "Кодирование так же выполняется сначала внешним, затем внутренним кодом. Допустим, у нас есть $\\sum_{i = 1}^s K_i m_i$ символов в поле $GF(q)$. Расположим их в следующем порядке:\n",
    "\n",
    "![Codeword of gcc #1](gcc-codeword-1.png)\n",
    "\n",
    "Затем трансформируем символы из поля $GF(q)$ в поля $GF(q^{m_i})$ и закодируем каждую строку внешними кодами:\n",
    "\n",
    "![Codeword of gcc #2](gcc-codeword-2.png)\n",
    "\n",
    "И в конце вернём всю матрицу снова в поле $GF(q)$ и закодируем каждый столбец внутренним кодом $\\mathcal{C}_{⧈}^{(1)}$:\n",
    "\n",
    "![Codeword of gcc #3](gcc-codeword-3.png)\n",
    "\n",
    "В итоге мы получили матрицу виды $n \\times N$, это и есть наше кодовое слово."
   ],
   "metadata": {
    "collapsed": false
   }
  },
  {
   "cell_type": "markdown",
   "source": [
    "## Декодирование\n",
    "\n",
    "Пусть принятое кодовое слово равно $\\underset{n \\times N}{Y_⧉}$ над полем $GF(q)$. Скопируем его в $\\hat{X}_⧉$. Тогда для $1 \\le i \\le s$ выполним алгоритм:\n",
    "\n",
    "1. $Y_⧈ = \\hat{X}_⧉$\n",
    "2. Продекодируем столбцы $Y_⧈$ внутренним кодом $C_{⧈}^{(i)}$, получив матрицу $\\underset{k_i \\times N}{\\hat{X_⧈}}$\n",
    "3. Трансформируем первые $m_i$ строк из $\\hat{X_⧈}$ в строку $y_{\\square}^{(i)}$ над полем $GM(q^{m_i})$\n",
    "4. Продекодируем строку $y_{\\square}^{(i)}$ внешним кодом $C_{\\square}^{(i)}$, получив строку $\\hat{x}_{\\square}^{(i)}$\n",
    "5. Представим $\\hat{x}_{\\square}^{(i)}$ в поле $GM(q)$ в виде $\\underset{m_i \\times N}{\\hat{X}_{\\square}^{(i)}}$\n",
    "6. Вычтем из $\\hat{X}_⧉$ матрицу $G_⧈[k_1-k_i+1:k_1-k_i+m_i]^T \\cdot \\hat{X}_{\\square}^{(i)}$\n",
    "\n",
    "Итоговый результат декодирования равен $\\hat{X}_⧉$."
   ],
   "metadata": {
    "collapsed": false
   }
  },
  {
   "cell_type": "markdown",
   "source": [
    "## Эффективность\n",
    "\n",
    "Некоторые ОКК (полярные коды) достигают предела Шеннона."
   ],
   "metadata": {
    "collapsed": false
   }
  }
 ],
 "metadata": {
  "kernelspec": {
   "display_name": "Python 3",
   "language": "python",
   "name": "python3"
  },
  "language_info": {
   "codemirror_mode": {
    "name": "ipython",
    "version": 2
   },
   "file_extension": ".py",
   "mimetype": "text/x-python",
   "name": "python",
   "nbconvert_exporter": "python",
   "pygments_lexer": "ipython2",
   "version": "2.7.6"
  }
 },
 "nbformat": 4,
 "nbformat_minor": 0
}
