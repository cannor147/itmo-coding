{
 "cells": [
  {
   "cell_type": "markdown",
   "source": [
    "# Полярные коды"
   ],
   "metadata": {
    "collapsed": false
   }
  },
  {
   "cell_type": "markdown",
   "source": [
    "## Терминология\n",
    "\n",
    "Полярные коды основаны на явлении поляризации каналов (см. конспект по каналам). Пусть у нас есть $n = 2^m$ поляризованных виртуальных каналов $u_1, u_2, \\dots u_n$. Посчитаем для них вероятность ошибки $p_i = P_{error}(u_i)$ и выберем множество $\\mathcal{F}_k = \\{i | p_i$ - $j$-я порядковая статистика вектора $\\vec{p}, \\: j \\le n - k\\}$.\n",
    "\n",
    "$\\mathcal{F}_k$ описывает множество индексов наименее надёжных $n - k$ виртуальных каналов. Тогда давайте по ним передавать, например, всегда нули, а по остальным $k$ каналам передавать информационные символы. Множество $\\mathcal{F}$ называется множеством замороженных символов.\n",
    "\n",
    "Такая конструкция описывает некоторый линейный код $\\mathcal{C} (n, k)$. В полярных кодах кодовое слово передаётся не посимвольно (как рассматривалось в обычных алгебраических кодах), а всё целиком параллельно."
   ],
   "metadata": {
    "collapsed": false
   }
  },
  {
   "cell_type": "markdown",
   "source": [
    "## Кодирование\n",
    "\n",
    "Поляризация описывается некоторой матрицей $\\underset{n \\times n}{P}$ (например, матрицей Адамара $A_m$). Удалив из неё $i$-е строки для всех $i \\in \\mathcal{F}$, получим порождающую матрицу $\\underset{k \\times n}{G}$. Далее осуществляем кодирование стандартным способом $u = w \\cdot G$.\n",
    "\n",
    "Но кодирование можно осуществлять и без вычисления порождающей матрицы. Достаточно вычислить:\n",
    "\n",
    "$$\n",
    "u_i = \\begin{cases} 0 \\quad\\:\\: \\mbox{if} \\:\\: i \\in \\mathcal{F} \\\\ w_i \\quad \\mbox{if} \\:\\: i \\not\\in \\mathcal{F} \\end{cases}\n",
    "$$"
   ],
   "metadata": {
    "collapsed": false
   }
  }
 ],
 "metadata": {
  "kernelspec": {
   "display_name": "Python 3",
   "language": "python",
   "name": "python3"
  },
  "language_info": {
   "codemirror_mode": {
    "name": "ipython",
    "version": 2
   },
   "file_extension": ".py",
   "mimetype": "text/x-python",
   "name": "python",
   "nbconvert_exporter": "python",
   "pygments_lexer": "ipython2",
   "version": "2.7.6"
  }
 },
 "nbformat": 4,
 "nbformat_minor": 0
}
