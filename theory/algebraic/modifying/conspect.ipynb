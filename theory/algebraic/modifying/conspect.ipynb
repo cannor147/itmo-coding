{
 "cells": [
  {
   "cell_type": "markdown",
   "source": [
    "# Методы модификации кодов"
   ],
   "metadata": {
    "collapsed": false,
    "pycharm": {
     "name": "#%% md\n"
    }
   }
  },
  {
   "cell_type": "markdown",
   "source": [
    "## Обзор\n",
    "\n",
    "\n",
    "Введём параметр избыточности кода $r = n - k$. Тогда в зависимости от изменения параметров длины, размерности и избыточности кода можно говорить о 6 базовых техниках модификации кода:\n",
    "\n",
    "\n",
    "| Метод            | English name | $n$      | $k$      | $r = n - k$ | $d$          |\n",
    "|------------------|--------------|----------|----------|-------------|--------------|\n",
    "| Увеличение кода  | augmenting   | fix      | increase | decrease    | not increase |\n",
    "| Очищение кода    | expurgating  | fix      | decrease | increase    | not decrease |\n",
    "| Расширение кода  | extending    | increase | fix      | increase    | not decrease |\n",
    "| Выкалывание кода | puncturing   | decrease | fix      | decrease    | not increase |\n",
    "| Удлинение кода   | lengthening  | increase | increase | fix         | any          |\n",
    "| Укорочение кода  | shortening   | decrease | decrease | fix         | any          |"
   ],
   "metadata": {
    "collapsed": false,
    "pycharm": {
     "name": "#%% md\n"
    }
   }
  },
  {
   "cell_type": "code",
   "execution_count": 1,
   "outputs": [
    {
     "name": "stdout",
     "output_type": "stream",
     "text": [
      "[[1 0 0 0 1 0 1]\n",
      " [0 1 0 0 1 1 1]\n",
      " [0 0 1 0 1 1 0]\n",
      " [0 0 0 1 0 1 1]]\n"
     ]
    }
   ],
   "source": [
    "from algebraic.binary import binary_array\n",
    "\n",
    "g = binary_array([\n",
    "    [1, 0, 0, 0, 1, 0, 1],\n",
    "    [0, 1, 0, 0, 1, 1, 1],\n",
    "    [0, 0, 1, 0, 1, 1, 0],\n",
    "    [0, 0, 0, 1, 0, 1, 1]\n",
    "])\n",
    "print(g)"
   ],
   "metadata": {
    "collapsed": false,
    "pycharm": {
     "name": "#%%\n"
    }
   }
  },
  {
   "cell_type": "markdown",
   "source": [
    "## Увеличение кода\n",
    "\n",
    "Увеличение кода есть добавление кодовых слов. В случае линейных кодов такая операция осуществляется с помощью добавления строк в порождающую матрицу. Необходимо следить, чтобы добавляемая строка была линейно независимой по отношению к остальным строкам."
   ],
   "metadata": {
    "collapsed": false,
    "pycharm": {
     "name": "#%% md\n"
    }
   }
  },
  {
   "cell_type": "code",
   "execution_count": 2,
   "outputs": [
    {
     "name": "stdout",
     "output_type": "stream",
     "text": [
      "[[1 0 0 0 1 0 1]\n",
      " [0 1 0 0 1 1 1]\n",
      " [0 0 1 0 1 1 0]\n",
      " [0 0 0 1 0 1 1]\n",
      " [1 0 0 0 0 0 0]]\n"
     ]
    }
   ],
   "source": [
    "from algebraic.modifying import auto_augment\n",
    "\n",
    "g1 = auto_augment(g)\n",
    "print(g1)"
   ],
   "metadata": {
    "collapsed": false,
    "pycharm": {
     "name": "#%%\n"
    }
   }
  },
  {
   "cell_type": "markdown",
   "source": [
    "## Очищение кода\n",
    "\n",
    "Очищение кода есть удаление кодовых слов. В случае линейных кодов такая операция осуществляется посредством удаления строк в порождающей матрице. Необходимо следить, чтобы в процессе очищения не образовалось нулевых столбцов (иначе их придётся удалить, и параметр $n$ уменьшится)."
   ],
   "metadata": {
    "collapsed": false,
    "pycharm": {
     "name": "#%% md\n"
    }
   }
  },
  {
   "cell_type": "code",
   "execution_count": 3,
   "outputs": [
    {
     "name": "stdout",
     "output_type": "stream",
     "text": [
      "[[0 1 0 0 1 1 1]\n",
      " [0 0 1 0 1 1 0]\n",
      " [0 0 0 1 0 1 1]]\n"
     ]
    }
   ],
   "source": [
    "from algebraic.modifying import auto_expurgate\n",
    "\n",
    "g2 = auto_expurgate(g)\n",
    "print(g2)"
   ],
   "metadata": {
    "collapsed": false,
    "pycharm": {
     "name": "#%%\n"
    }
   }
  },
  {
   "cell_type": "markdown",
   "source": [
    "## Расширение кода\n",
    "\n",
    "Расширение кода есть добавление символов. В случае линейных кодов такая операция осуществляется с помощью добавления столбцов в порождающую матрице. Добавляя новый столбец, мы гарантированно получим матрицу какого-то кода (пусть и с меньшей скоростью)."
   ],
   "metadata": {
    "collapsed": false,
    "pycharm": {
     "name": "#%% md\n"
    }
   }
  },
  {
   "cell_type": "code",
   "execution_count": 4,
   "outputs": [
    {
     "name": "stdout",
     "output_type": "stream",
     "text": [
      "[[1 0 0 0 1 0 1 1]\n",
      " [0 1 0 0 1 1 1 0]\n",
      " [0 0 1 0 1 1 0 1]\n",
      " [0 0 0 1 0 1 1 1]]\n"
     ]
    }
   ],
   "source": [
    "from algebraic.modifying import auto_extend\n",
    "\n",
    "g3 = auto_extend(g)\n",
    "print(g3)"
   ],
   "metadata": {
    "collapsed": false,
    "pycharm": {
     "name": "#%%\n"
    }
   }
  },
  {
   "cell_type": "markdown",
   "source": [
    "## Выкалывание кода\n",
    "\n",
    "Выкалывание кода есть удаление символов. В случае линейных кодов такая операция осуществляется посредством удаления столбцов в порождающей матрице. Необходимо следить, чтобы в процессе очищения не образовалось линейно зависимыми и нулевых строк (иначе их придётся удалить, и параметр $k$ уменьшится)."
   ],
   "metadata": {
    "collapsed": false,
    "pycharm": {
     "name": "#%% md\n"
    }
   }
  },
  {
   "cell_type": "code",
   "execution_count": 5,
   "outputs": [
    {
     "name": "stdout",
     "output_type": "stream",
     "text": [
      "[[0 0 0 1 0 1]\n",
      " [1 0 0 1 1 1]\n",
      " [0 1 0 1 1 0]\n",
      " [0 0 1 0 1 1]]\n"
     ]
    }
   ],
   "source": [
    "from algebraic.modifying import auto_puncture\n",
    "\n",
    "g4 = auto_puncture(g)\n",
    "print(g4)"
   ],
   "metadata": {
    "collapsed": false,
    "pycharm": {
     "name": "#%%\n"
    }
   }
  },
  {
   "cell_type": "markdown",
   "source": [
    "## Удлинение кода\n",
    "\n",
    "Удлинение кода есть комбинация увеличения и расширения кода. Проще всего такую операцию осуществить, если сначала в порождающую матрицу вставить нулевой столбец, а затем вставить единичную строку."
   ],
   "metadata": {
    "collapsed": false,
    "pycharm": {
     "name": "#%% md\n"
    }
   }
  },
  {
   "cell_type": "code",
   "execution_count": 6,
   "outputs": [
    {
     "name": "stdout",
     "output_type": "stream",
     "text": [
      "[[1 0 0 0 1 0 1 0]\n",
      " [0 1 0 0 1 1 1 0]\n",
      " [0 0 1 0 1 1 0 0]\n",
      " [0 0 0 1 0 1 1 0]\n",
      " [1 1 1 1 1 1 1 1]]\n"
     ]
    }
   ],
   "source": [
    "from algebraic.modifying import auto_lengthen\n",
    "\n",
    "g5 = auto_lengthen(g)\n",
    "print(g5)"
   ],
   "metadata": {
    "collapsed": false,
    "pycharm": {
     "name": "#%%\n"
    }
   }
  },
  {
   "cell_type": "markdown",
   "source": [
    "## Укорочение кода\n",
    "\n",
    "Укорочение кода есть комбинация очищения и выкалывания кода. Проще всего такую операцию осуществить с помощью следующего алгоритма:\n",
    "\n",
    "1. Приведём порождающую матрицу $G = (I_k | S)$.\n",
    "2. Удалим из порождающей матрицы $m$ столбцов единичной подматрицы и соответствующие $m$ строк.\n",
    "3. Если в процессе появились нулевые столбцы, удалим и их."
   ],
   "metadata": {
    "collapsed": false,
    "pycharm": {
     "name": "#%% md\n"
    }
   }
  },
  {
   "cell_type": "code",
   "execution_count": 7,
   "outputs": [
    {
     "name": "stdout",
     "output_type": "stream",
     "text": [
      "[[1 0 0 1 1 1]\n",
      " [0 1 0 1 1 0]\n",
      " [0 0 1 0 1 1]]\n"
     ]
    }
   ],
   "source": [
    "from algebraic.modifying import auto_shorten\n",
    "\n",
    "g6 = auto_shorten(g)\n",
    "print(g6)"
   ],
   "metadata": {
    "collapsed": false,
    "pycharm": {
     "name": "#%%\n"
    }
   }
  }
 ],
 "metadata": {
  "kernelspec": {
   "display_name": "Python 3",
   "language": "python",
   "name": "python3"
  },
  "language_info": {
   "codemirror_mode": {
    "name": "ipython",
    "version": 2
   },
   "file_extension": ".py",
   "mimetype": "text/x-python",
   "name": "python",
   "nbconvert_exporter": "python",
   "pygments_lexer": "ipython2",
   "version": "2.7.6"
  }
 },
 "nbformat": 4,
 "nbformat_minor": 0
}