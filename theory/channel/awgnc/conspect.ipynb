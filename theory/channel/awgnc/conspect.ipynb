{
 "cells": [
  {
   "cell_type": "markdown",
   "source": [
    "# Аддитивный гауссовский канал"
   ],
   "metadata": {
    "collapsed": false
   }
  },
  {
   "cell_type": "markdown",
   "source": [
    "## Терминология\n",
    "\n",
    "Аддитивный гауссовский канал с аддитивным белым гауссовским шумом характеризуется:\n",
    "\n",
    "* Случайной величиной $Z \\sim N(0, \\sigma^2)$ (нормальное распределение), отвечающей за шум\n",
    "* Входным алфавитом $\\mathbb{X} \\subseteq \\mathbb{R}$ и случайной величиной $X \\in \\mathbb{X}$, обычно $\\mathbb{X} = \\{-1, 1\\}$\n",
    "* Выходным алфавитом $\\mathbb{Y} = \\mathbb{R}$ и случайной величиной $Y = X + Z$\n",
    "* Условное распределение $P_{Y|X} \\{y|x\\} = \\frac{1}{\\sqrt{2 \\pi \\sigma^2}} e^{-\\frac{(y-x)^2}{2 \\sigma^2}}$"
   ],
   "metadata": {
    "collapsed": false
   }
  },
  {
   "cell_type": "code",
   "execution_count": 1,
   "outputs": [
    {
     "name": "stdout",
     "output_type": "stream",
     "text": [
      "σ = 0.3535533905932738\n",
      "P(0.175|1) = 0.07414610337406824\n",
      "P(0.175|-1) = 0.004508829189592974\n"
     ]
    }
   ],
   "source": [
    "import math\n",
    "from channel.awgnc import awgnc_probability\n",
    "\n",
    "sigma = math.sqrt(2) / 4\n",
    "print(\"σ = \" + str(sigma))\n",
    "print(\"P(0.175|1) = \" + str(awgnc_probability(x=1, y=0.175, sigma=sigma)))\n",
    "print(\"P(0.175|-1) = \" + str(awgnc_probability(x=-1, y=0.175, sigma=sigma)))"
   ],
   "metadata": {
    "collapsed": false
   }
  },
  {
   "cell_type": "markdown",
   "source": [
    "## Параметр Бхаттачарьи\n",
    "\n",
    "$$Z_{AWGNC} = \\int_{-\\inf}^{+\\inf}\\sqrt{W(y|-1) W(y|+1)} \\:\\mathrm{d}y =\n",
    "\\frac{1}{\\sqrt{2 \\pi \\sigma^2}} \\int_{-\\inf}^{+\\inf}e^{-\\frac{(y-1)^2+(y+1)^2}{4\\sigma^2}} \\:\\mathrm{d}y =\n",
    "\\frac{e^{-\\frac{1}{2\\sigma^2}}}{\\sqrt{2 \\pi \\sigma^2}} \\int_{-\\inf}^{+\\inf}e^{-\\frac{y}{2\\sigma^2}} \\:\\mathrm{d}y =\n",
    "e^{-\\frac{1}{2\\sigma^2}}$$"
   ],
   "metadata": {
    "collapsed": false
   }
  },
  {
   "cell_type": "code",
   "execution_count": 2,
   "outputs": [
    {
     "name": "stdout",
     "output_type": "stream",
     "text": [
      "Z = 0.018315638888734196\n"
     ]
    }
   ],
   "source": [
    "from channel.awgnc import awgnc_bhattacharyya\n",
    "\n",
    "print(\"Z = \" + str(awgnc_bhattacharyya(sigma=sigma)))"
   ],
   "metadata": {
    "collapsed": false
   }
  },
  {
   "cell_type": "markdown",
   "source": [
    "## Логарифмическое отношение правдоподобия\n",
    "\n",
    "$$\n",
    "L_{AWGNC} =\n",
    "\\ln\\frac{P \\{x=-1|y\\}}{P \\{x=1|y\\}} =\n",
    "\\ln\\frac{P \\{y|x=-1\\}}{P \\{y|x=1\\}} =\n",
    "\\ln\\frac{\\frac{1}{\\sqrt{2 \\pi \\sigma^2}} \\cdot \\exp{-\\frac{(y + 1)^2}{2\\sigma^2}}}{\\frac{1}{\\sqrt{2 \\pi \\sigma^2}} \\cdot \\exp{-\\frac{(y - 1)^2}{2\\sigma^2}}} =\n",
    "\\ln\\exp\\frac{(y - 1)^2-(y + 1)^2}{2\\sigma^2} =\n",
    "-\\frac{2y}{\\sigma^2}\n",
    "$$"
   ],
   "metadata": {
    "collapsed": false
   }
  },
  {
   "cell_type": "markdown",
   "source": [
    "## Критерий минимального расстояния Евклида\n",
    "\n",
    "$$\n",
    "\\underset{x}{\\operatorname{argmax}} P(y | x) =\n",
    "\\underset{x}{\\operatorname{argmax}} \\prod_{i = 0}^{n- 1} \\frac{\\exp{-\\frac{(y_i - x_i)^2}{2\\sigma^2}}}{\\sqrt{2 \\pi \\sigma^2}} \\sim\n",
    "- \\underset{x}{\\operatorname{argmax}} \\sum_{i = 0}^{n - 1} \\frac{(y_i - x_i)^2}{2\\sigma^2} \\sim\n",
    "\\underset{x}{\\operatorname{argmin}} \\sum_{i = 0}^{n - 1} (y_i - x_i)^2 \\sim\n",
    "\\underset{x}{\\operatorname{argmin}}d_E(y, x)\n",
    "$$"
   ],
   "metadata": {
    "collapsed": false
   }
  },
  {
   "cell_type": "markdown",
   "source": [],
   "metadata": {
    "collapsed": false
   }
  }
 ],
 "metadata": {
  "kernelspec": {
   "display_name": "Python 3",
   "language": "python",
   "name": "python3"
  },
  "language_info": {
   "codemirror_mode": {
    "name": "ipython",
    "version": 2
   },
   "file_extension": ".py",
   "mimetype": "text/x-python",
   "name": "python",
   "nbconvert_exporter": "python",
   "pygments_lexer": "ipython2",
   "version": "2.7.6"
  }
 },
 "nbformat": 4,
 "nbformat_minor": 0
}
