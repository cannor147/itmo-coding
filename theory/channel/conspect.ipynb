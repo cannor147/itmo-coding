{
 "cells": [
  {
   "cell_type": "markdown",
   "source": [
    "# Каналы передачи информации"
   ],
   "metadata": {
    "collapsed": false
   }
  },
  {
   "cell_type": "markdown",
   "source": [
    "## Терминология\n",
    "\n",
    "Канал передачи данных это некоторое динамическое отображение $\\mathbb{X}^* \\rightarrow \\mathbb{Y}^*$, которое характеризуется тремя составляющими:\n",
    "\n",
    "* Входной алфавит $\\mathbb{X}$ и случайная величина $X \\in \\mathbb{X}$\n",
    "* Выходной алфавит $\\mathbb{Y}$ и случайная величина $Y \\in \\mathbb{Y}$\n",
    "* Условное распределение $P_{Y^m|X^n} \\{y|x\\}$, где $x \\in \\mathbb{X}^n$ и $y \\in \\mathbb{Y}^m$\n",
    "\n",
    "Случай $m=1$ и $n=1$ часто записывают как $P_{Y|X} \\{y|x\\} = W(y|x)$ (посимвольное распределение)."
   ],
   "metadata": {
    "collapsed": false
   }
  },
  {
   "cell_type": "markdown",
   "source": [
    "### Параметр Бхаттачарьи\n",
    "\n",
    "Для канала с двумя равновероятным значениями $\\mathbb{X}$ (обозначим их как $\\~0$ и $\\~1$) можно вывести следующую формулу:\n",
    "\n",
    "\n",
    "\\begin{equation*}\n",
    "\\begin{gathered}\n",
    "\\sum_{x \\in \\mathbb{X}} P\\{x\\}P\\{\\neg x|x\\} =\n",
    "P\\{x=\\~0\\}P\\{y\\neq\\~0|x=\\~0\\} + P\\{x=\\~1\\}P\\{y\\neq\\~1|x=\\~1\\} =\\\\=\n",
    "\\frac{1}{2} \\sum_{y : W(y|\\~0)<W(y|\\~1)} W(y|\\~0) + \\frac{1}{2} \\sum_{y : W(y|\\~1)<W(y|\\~0)} W(y|\\~1) =\n",
    "\\frac{1}{2} \\sum_{y : \\frac{W(y|\\~1)}{W(y|\\~0)} > 1} W(y|\\~0) + \\frac{1}{2} \\sum_{y : \\frac{W(y|\\~0)}{W(y|\\~1)} > 1} W(y|\\~1) =\\\\=\n",
    "\\frac{1}{2} \\sum_{y \\in \\mathbb{Y}} \\sum_{x \\in \\mathbb{X}} W(y|x) \\chi\\Biggl(\\frac{W(y|\\neg x)}{W(y|x)}\\Biggr) \\le\n",
    "\\frac{1}{2} \\sum_{y \\in \\mathbb{Y}} \\sum_{x \\in \\mathbb{X}} W(y|x) \\sqrt{\\frac{W(y|\\neg x)}{W(y|x)}} =\n",
    "\\sum_{y \\in \\mathbb{Y}} \\sqrt{W(y|\\~0) W(y|\\~1)}\n",
    "\\end{gathered}\n",
    "\\end{equation*}\n",
    "\n",
    "Здесь $\\chi(z) = \\operatorname{sgn}(\\operatorname{sgn}(z - 1) + 1)$ это индикаторная функция. $\\chi(z) \\le \\sqrt{z}$.\n",
    "\n",
    "Параметром Бхаттачарьи называется функция $Z_W = \\sum_{y \\in \\mathbb{Y}} \\sqrt{W(y|\\~0) W(y|\\~1)}$. Эта функция задаёт верхнюю границу для оценки ошибки при критерии по максимуму правдоподобия (см. главный конспект)."
   ],
   "metadata": {
    "collapsed": false
   }
  },
  {
   "cell_type": "markdown",
   "source": [
    "## Виды каналов\n",
    "\n",
    "Если $\\mathbb{X}, \\mathbb{Y} \\in FinSet$, то такой канал называется дискретным. Если $\\mathbb{X} \\in FinSet, \\mathbb{Y} \\subseteq \\mathbb{R}$, то такой канал называется полунепрерывным. Если $\\mathbb{X}, \\mathbb{Y} \\subseteq \\mathbb{R}$, то такой канал называется непрерывным. Дискретный канал называется $q$-ичным, если $|\\mathbb{X}| = |\\mathbb{Y}| = q$ (при $q = 2$ канал называется двоичным).\n",
    "\n",
    "В случае дискретных алфавитов распределение $P_{Y|X} \\{y|x\\}$ задаётся в виде матрицы $\\Pi_{Y|X}$ переходных вероятностей. Дискретный канал называется симметричным по входу (выходу), если все строки (столбцы) матрицы переходных вероятностей являются перестановками первой строки (первого столбца). Если канал симметричен как по входу, так и по выходу, то такой канал называется полностью симметричным.\n",
    "\n",
    "Также можно ввести понятие стирающего канала, если добавить в $\\mathbb{Y}$ стирающий элемент $\\epsilon$.\n",
    "\n",
    "Также существуют каналы с памятью, для которых для каждой последующей передачи данных матрица переходных вероятностей меняется. В дальнейшем речь ведётся только о каналах без памяти."
   ],
   "metadata": {
    "collapsed": false
   }
  },
  {
   "cell_type": "markdown",
   "source": [
    "### Двоичный симметричный канал\n",
    "\n",
    "Двоичный симметричный канал характеризуется:\n",
    "\n",
    "* $\\mathbb{X} = \\mathbb{Y} = \\mathbb{B}$\n",
    "* Условное распределение $P_{Y|X}\\{y|x\\} = p^{\\delta(y, x)} (1 - p)^{1 - \\delta(y, x)} = (1-p) \\Bigr(\\frac{p}{1-p}\\Bigl)^{\\delta(y, x)}$, где $\\delta(x, y)$ — функция Кронекера\n",
    "\n",
    "Двоичный симметричный канал характеризуется схемой Бернулли. Вероятность наличия ошибок при декодировании, исправляющим $t$ ошибок, составляет:\n",
    "\n",
    "$$P_{error}(n, t) = \\sum_{i = t + 1}^n C_n^i p^i (1-p)^{n-i}$$\n",
    "\n",
    "Параметр Бхаттачарьи равен:\n",
    "\n",
    "$$Z_{BSC} = \\sqrt{W(0|0) W(0|1)} + \\sqrt{W(1|0) W(1|1)} = (1-p)p + p(1-p) = 2p-2p^2$$\n",
    "\n"
   ],
   "metadata": {
    "collapsed": false
   }
  },
  {
   "cell_type": "code",
   "execution_count": 1,
   "outputs": [
    {
     "name": "stdout",
     "output_type": "stream",
     "text": [
      "p = 0.3535533905932738\n",
      "Z = 0.4571067811865475\n",
      "P(0|0) = 0.6464466094067263\n",
      "P(0|1) = 0.3535533905932738\n"
     ]
    }
   ],
   "source": [
    "import math\n",
    "\n",
    "from channel import bsc_probability, bsc_bhattacharyya\n",
    "from algebraic.binary import Binary\n",
    "\n",
    "b0 = Binary(0)\n",
    "b1 = Binary(1)\n",
    "\n",
    "p = math.sqrt(2) / 4\n",
    "print(\"p = \" + str(p))\n",
    "print(\"Z = \" + str(bsc_bhattacharyya(p=p)))\n",
    "print(\"P(0|0) = \" + str(bsc_probability(x=b0, y=b0, p=p)))\n",
    "print(\"P(0|1) = \" + str(bsc_probability(x=b1, y=b0, p=p)))"
   ],
   "metadata": {
    "collapsed": false
   }
  },
  {
   "cell_type": "markdown",
   "source": [
    "### Двоичный стирающий канал\n",
    "\n",
    "Двоичный стирающий канал характеризуется:\n",
    "\n",
    "* $\\mathbb{X} = \\mathbb{B}$\n",
    "* $\\mathbb{Y} = \\mathbb{B} \\cup \\{ \\epsilon \\}$\n",
    "* Условное распределение $P_{Y|X}\\{y|x\\} = p^{\\delta(y, \\epsilon)} (1 - p)^{\\delta(y, x)} 0^{1 - \\delta(y, \\epsilon) - \\delta(y, x)}$\n",
    "\n",
    "Параметр Бхаттачарьи равен:\n",
    "\n",
    "$$Z_{BEC} = \\sqrt{W(0|0) W(0|1)} + \\sqrt{W(1|0) W(1|1)} + \\sqrt{W(\\epsilon|0) W(\\epsilon|1)} = \\sqrt{W(\\epsilon|0) W(\\epsilon|1)} = p$$"
   ],
   "metadata": {
    "collapsed": false
   }
  },
  {
   "cell_type": "code",
   "execution_count": 2,
   "outputs": [
    {
     "name": "stdout",
     "output_type": "stream",
     "text": [
      "p = 0.3535533905932738\n",
      "Z = 0.3535533905932738\n",
      "P(0|0) = 0.6464466094067263\n",
      "P(1|0) = 0\n",
      "P(ϵ|0) = 0.3535533905932738\n"
     ]
    }
   ],
   "source": [
    "from channel import bec_probability, bec_bhattacharyya\n",
    "\n",
    "eps = 'ϵ'\n",
    "\n",
    "p = math.sqrt(2) / 4\n",
    "print(\"p = \" + str(p))\n",
    "print(\"Z = \" + str(bec_bhattacharyya(p=p)))\n",
    "print(\"P(0|0) = \" + str(bec_probability(x=b0, y=b0, p=p)))\n",
    "print(\"P(1|0) = \" + str(bec_probability(x=b0, y=b1, p=p)))\n",
    "print(\"P(ϵ|0) = \" + str(bec_probability(x=b0, y=eps, p=p)))"
   ],
   "metadata": {
    "collapsed": false
   }
  },
  {
   "cell_type": "markdown",
   "source": [
    "### Аддитивный гауссовский канал\n",
    "\n",
    "Аддитивный гауссовский канал с аддитивным белым гауссовским шумом характеризуется:\n",
    "\n",
    "* Случайной величиной $Z \\sim N(0, \\sigma^2)$ (нормальное распределение), отвечающей за шум\n",
    "* Входным алфавитом $\\mathbb{X} \\subseteq \\mathbb{R}$ и случайной величиной $X \\in \\mathbb{X}$, обычно $\\mathbb{X} = \\{-1, 1\\}$\n",
    "* Выходным алфавитом $\\mathbb{Y} = \\mathbb{R}$ и случайной величиной $Y = X + Z$\n",
    "* Условное распределение $P_{Y|X} \\{y|x\\} = \\frac{1}{\\sqrt{2 \\pi \\sigma^2}} e^{-\\frac{(y-x)^2}{2 \\sigma^2}}$\n",
    "\n",
    "Параметр Бхаттачарьи равен:\n",
    "\n",
    "$$Z_{AWGNC} = \\int_{-\\inf}^{+\\inf}\\sqrt{W(y|-1) W(y|+1)} \\:\\mathrm{d}y =\n",
    "\\frac{1}{\\sqrt{2 \\pi \\sigma^2}} \\int_{-\\inf}^{+\\inf}e^{-\\frac{(y-1)^2+(y+1)^2}{4\\sigma^2}} \\:\\mathrm{d}y =\n",
    "\\frac{e^{-\\frac{1}{2\\sigma^2}}}{\\sqrt{2 \\pi \\sigma^2}} \\int_{-\\inf}^{+\\inf}e^{-\\frac{y}{2\\sigma^2}} \\:\\mathrm{d}y =\n",
    "e^{-\\frac{1}{2\\sigma^2}}$$"
   ],
   "metadata": {
    "collapsed": false
   }
  },
  {
   "cell_type": "code",
   "execution_count": 3,
   "outputs": [
    {
     "name": "stdout",
     "output_type": "stream",
     "text": [
      "σ = 0.3535533905932738\n",
      "Z = 0.018315638888734196\n",
      "P(0.175|1) = 0.07414610337406824\n",
      "P(0.175|-1) = 0.004508829189592974\n"
     ]
    }
   ],
   "source": [
    "from channel import awgnc_probability, awgnc_bhattacharyya\n",
    "\n",
    "sigma = math.sqrt(2) / 4\n",
    "print(\"σ = \" + str(sigma))\n",
    "print(\"Z = \" + str(awgnc_bhattacharyya(sigma=sigma)))\n",
    "print(\"P(0.175|1) = \" + str(awgnc_probability(x=1, y=0.175, sigma=sigma)))\n",
    "print(\"P(0.175|-1) = \" + str(awgnc_probability(x=-1, y=0.175, sigma=sigma)))"
   ],
   "metadata": {
    "collapsed": false
   }
  },
  {
   "cell_type": "markdown",
   "source": [
    "## Поляризация\n",
    "\n",
    "Рассмотрим, например, $2$ параллельных двоичных стирающих канала $\\mathfrak{C}_1$ и $\\mathfrak{C}_2$ с одинаковыми характеристиками. При передаче информации по обоим каналам вероятность помех равная.\n",
    "\n",
    "Сделаем трюк. Будем передавать в каналы не просто символы $u_1$ и $u_2$, а $c_1 = u_1 + u_2$ и $c_2 = u_2$. Иными словами, $(c_1 \\; c_2) = (u_1 \\; u_2) \\begin{pmatrix}1 & 0 \\\\ 1 & 1\\end{pmatrix}$.\n",
    "* $u_1$ можно восстановить только если $y_1$ и $y_2$ получены без стираний, т.е. вероятность ошибки равна $1 - (1 - p)^2 = 2p - p^2 \\ge p$\n",
    "* Зная $u_1$, можно восстановить $u_2$ только если $y_1$ или $y_2$ получены без стираний, т.е. вероятность ошибки равна $p^2 \\le p$\n",
    "\n",
    "Таким образом, можно уже работать не с двумя равновероятными каналами $\\mathfrak{C}_1$ и $\\mathfrak{C}_2$, а с двумя виртуальными каналами $\\mathfrak{U}_1$ и $\\mathfrak{U}_2$ с разной вероятностью ошибки. Промасштабируем эту технику: теперь у нас есть $m$ уровней таких трюков, как выше, а количество каналов на каждом уровне равно $n = 2^m$.\n",
    "\n",
    "Среди виртуальных каналов у половины вероятность ошибки будет стремиться к $0$, а у другой половины к $1$. Посчитаем вероятности ошибок каждого из виртуальных двоичных стирающих каналов:"
   ],
   "metadata": {
    "collapsed": false
   }
  },
  {
   "cell_type": "code",
   "execution_count": 4,
   "outputs": [
    {
     "name": "stdout",
     "output_type": "stream",
     "text": [
      "[9.96676707e-01 8.88027273e-01 8.21449816e-01 3.33446204e-01\n",
      " 7.00296297e-01 2.04799683e-01 1.30727226e-01 4.57679446e-03\n",
      " 5.29747472e-01 9.87533076e-02 5.82260405e-02 8.73179451e-04\n",
      " 3.20084615e-02 2.60318541e-04 1.31215695e-04 4.30467210e-09]\n"
     ]
    }
   ],
   "source": [
    "from channel import bec_polar_probability\n",
    "\n",
    "print(bec_polar_probability(p=0.3, m=4))"
   ],
   "metadata": {
    "collapsed": false
   }
  },
  {
   "cell_type": "markdown",
   "source": [
    "Распространим также формулу для вычисления $\\vec{c}$ через $\\vec{u}$:\n",
    "\n",
    "$$(c_1 \\; c_2 \\; \\dots \\; c_n) = (u_1 \\; u_2 \\; \\dots \\; u_n) \\begin{pmatrix}1 & 0 \\\\ 1 & 1\\end{pmatrix}^{\\otimes m}$$\n",
    "\n",
    "Символ $\\otimes m$ обозначает Кронекеровскую степень. Такая матрица называется матрицей Адамара $A_m$. На практике для достижения лучших показателей используют и другие матрицы размерности $2^m \\times 2^m$."
   ],
   "metadata": {
    "collapsed": false
   }
  },
  {
   "cell_type": "code",
   "execution_count": 5,
   "outputs": [
    {
     "name": "stdout",
     "output_type": "stream",
     "text": [
      "[[1 0 0 0 0 0 0 0]\n",
      " [1 1 0 0 0 0 0 0]\n",
      " [1 0 1 0 0 0 0 0]\n",
      " [1 1 1 1 0 0 0 0]\n",
      " [1 0 0 0 1 0 0 0]\n",
      " [1 1 0 0 1 1 0 0]\n",
      " [1 0 1 0 1 0 1 0]\n",
      " [1 1 1 1 1 1 1 1]]\n"
     ]
    }
   ],
   "source": [
    "from algebraic.matrix import hadamard_matrix\n",
    "\n",
    "print(hadamard_matrix(3, positive=Binary(1), negative=Binary(0)))"
   ],
   "metadata": {
    "collapsed": false
   }
  }
 ],
 "metadata": {
  "kernelspec": {
   "display_name": "Python 3",
   "language": "python",
   "name": "python3"
  },
  "language_info": {
   "codemirror_mode": {
    "name": "ipython",
    "version": 2
   },
   "file_extension": ".py",
   "mimetype": "text/x-python",
   "name": "python",
   "nbconvert_exporter": "python",
   "pygments_lexer": "ipython2",
   "version": "2.7.6"
  }
 },
 "nbformat": 4,
 "nbformat_minor": 0
}
