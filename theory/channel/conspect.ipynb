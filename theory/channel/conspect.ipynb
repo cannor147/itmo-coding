{
 "cells": [
  {
   "cell_type": "markdown",
   "source": [
    "# Каналы передачи информации"
   ],
   "metadata": {
    "collapsed": false
   }
  },
  {
   "cell_type": "markdown",
   "source": [
    "## Терминология\n",
    "\n",
    "Канал передачи данных это некоторое динамическое отображение $\\mathbb{X}^* \\rightarrow \\mathbb{Y}^*$, которое характеризуется тремя составляющими:\n",
    "\n",
    "* Входной алфавит $\\mathbb{X}$ и случайная величина $X \\in \\mathbb{X}$\n",
    "* Выходной алфавит $\\mathbb{Y}$ и случайная величина $Y \\in \\mathbb{Y}$\n",
    "* Условное распределение $P_{Y^m|X^n} \\{y|x\\}$, где $x \\in \\mathbb{X}^n$ и $y \\in \\mathbb{Y}^m$"
   ],
   "metadata": {
    "collapsed": false
   }
  },
  {
   "cell_type": "markdown",
   "source": [
    "## Виды каналов\n",
    "\n",
    "Если $\\mathbb{X}, \\mathbb{Y} \\in FinSet$, то такой канал называется дискретным. Если $\\mathbb{X} \\in FinSet, \\mathbb{Y} \\subseteq \\mathbb{R}$, то такой канал называется полунепрерывным. Если $\\mathbb{X}, \\mathbb{Y} \\subseteq \\mathbb{R}$, то такой канал называется непрерывным. Дискретный канал называется $q$-ичным, если $|\\mathbb{X}| = |\\mathbb{Y}| = q$ (при $q = 2$ канал называется двоичным).\n",
    "\n",
    "В случае дискретных алфавитов распределение $P_{Y|X} \\{y|x\\}$ задаётся в виде матрицы $\\Pi_{Y|X}$ переходных вероятностей. Дискретный канал называется симметричным по входу (выходу), если все строки (столбцы) матрицы переходных вероятностей являются перестановками первой строки (первого столбца). Если канал симметричен как по входу, так и по выходу, то такой канал называется полностью симметричным.\n",
    "\n",
    "Также можно ввести понятие стирающего канала, если добавить в $\\mathbb{Y}$ стирающий элемент $\\epsilon$.\n",
    "\n",
    "Также существуют каналы с памятью, для которых для каждой последующей передачи данных матрица переходных вероятностей меняется. В дальнейшем речь ведётся только о каналах без памяти."
   ],
   "metadata": {
    "collapsed": false
   }
  },
  {
   "cell_type": "markdown",
   "source": [
    "### Двоичный симметричный канал\n",
    "\n",
    "Двоичный симметричный канал характеризуется:\n",
    "\n",
    "* $\\mathbb{X} = \\mathbb{Y} = \\mathbb{B}$\n",
    "* Условное распределение $P_{Y|X}(y,x) = p^{\\delta(y, x)} (1 - p)^{1 - \\delta(y, x)} = (1-p) \\Bigr(\\frac{p}{1-p}\\Bigl)^{\\delta(y, x)}$, где $\\delta(x, y)$ — функция Кронекера\n",
    "\n",
    "Двоичный симметричный канал характеризуется схемой Бернулли. Вероятность наличия ошибок при декодировании, исправляющим $t$ ошибок, составляет:\n",
    "\n",
    "$$P_{error}(n, t) = \\sum_{i = t + 1}^n C_n^i p^i (1-p)^{n-i}$$\n",
    "\n"
   ],
   "metadata": {
    "collapsed": false
   }
  },
  {
   "cell_type": "code",
   "execution_count": 1,
   "outputs": [
    {
     "name": "stdout",
     "output_type": "stream",
     "text": [
      "p = 0.3535533905932738\n",
      "P(0|0) = 0.6464466094067263\n",
      "P(0|1) = 0.3535533905932738\n"
     ]
    }
   ],
   "source": [
    "import math\n",
    "\n",
    "from channel import bsc_probability\n",
    "from algebraic.binary import Binary\n",
    "\n",
    "b0 = Binary(0)\n",
    "b1 = Binary(1)\n",
    "\n",
    "p = math.sqrt(2) / 4\n",
    "print(\"p = \" + str(p))\n",
    "print(\"P(0|0) = \" + str(bsc_probability(x=b0, y=b0, p=p)))\n",
    "print(\"P(0|1) = \" + str(bsc_probability(x=b1, y=b0, p=p)))"
   ],
   "metadata": {
    "collapsed": false
   }
  },
  {
   "cell_type": "markdown",
   "source": [
    "### Аддитивный гауссовский канал\n",
    "\n",
    "Аддитивный гауссовский канал с аддитивным белым гауссовским шумом характеризуется:\n",
    "\n",
    "* Случайной величиной $Z \\sim N(0, \\sigma^2)$ (нормальное распределение), отвечающей за шум\n",
    "* Входным алфавитом $\\mathbb{X} \\subseteq \\mathbb{R}$ и случайной величиной $X \\in \\mathbb{X}$\n",
    "* Выходным алфавитом $\\mathbb{Y} = \\mathbb{R}$ и случайной величиной $Y = X + Z$\n",
    "* Условное распределение $P_{Y|X} \\{y|x\\} = \\frac{1}{\\sqrt{2 \\pi \\sigma^2}} e^{-\\frac{(y-x)^2}{2 \\sigma^2}}$"
   ],
   "metadata": {
    "collapsed": false
   }
  },
  {
   "cell_type": "code",
   "execution_count": 2,
   "outputs": [
    {
     "name": "stdout",
     "output_type": "stream",
     "text": [
      "σ = 0.3535533905932738\n",
      "P(0.175|1) = 0.07414610337406824\n",
      "P(0.175|-1) = 0.004508829189592974\n"
     ]
    }
   ],
   "source": [
    "from channel import awgnc_probability\n",
    "\n",
    "sigma = math.sqrt(2) / 4\n",
    "print(\"σ = \" + str(sigma))\n",
    "print(\"P(0.175|1) = \" + str(awgnc_probability(x=1, y=0.175, sigma=sigma)))\n",
    "print(\"P(0.175|-1) = \" + str(awgnc_probability(x=-1, y=0.175, sigma=sigma)))"
   ],
   "metadata": {
    "collapsed": false
   }
  }
 ],
 "metadata": {
  "kernelspec": {
   "display_name": "Python 3",
   "language": "python",
   "name": "python3"
  },
  "language_info": {
   "codemirror_mode": {
    "name": "ipython",
    "version": 2
   },
   "file_extension": ".py",
   "mimetype": "text/x-python",
   "name": "python",
   "nbconvert_exporter": "python",
   "pygments_lexer": "ipython2",
   "version": "2.7.6"
  }
 },
 "nbformat": 4,
 "nbformat_minor": 0
}
