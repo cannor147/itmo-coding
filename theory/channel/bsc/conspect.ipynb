{
 "cells": [
  {
   "cell_type": "markdown",
   "source": [
    "# Двоичный симметричный канал"
   ],
   "metadata": {
    "collapsed": false
   }
  },
  {
   "cell_type": "markdown",
   "source": [
    "## Терминология\n",
    "\n",
    "Двоичный симметричный канал характеризуется:\n",
    "\n",
    "* $\\mathbb{X} = \\mathbb{Y} = \\mathbb{B}$\n",
    "* Условное распределение $P_{Y|X}\\{y|x\\} = p^{\\delta(y, x)} (1 - p)^{1 - \\delta(y, x)} = (1-p) \\Bigr(\\frac{p}{1-p}\\Bigl)^{\\delta(y, x)}$, где $\\delta(x, y)$ — функция Кронекера\n",
    "\n",
    "Двоичный симметричный канал характеризуется схемой Бернулли. Вероятность наличия ошибок при декодировании, исправляющим $t$ ошибок, составляет:\n",
    "\n",
    "$$P_{error}(n, t) = \\sum_{i = t + 1}^n C_n^i p^i (1-p)^{n-i}$$"
   ],
   "metadata": {
    "collapsed": false
   }
  },
  {
   "cell_type": "code",
   "execution_count": 1,
   "outputs": [
    {
     "name": "stdout",
     "output_type": "stream",
     "text": [
      "p = 0.3535533905932738\n",
      "P(0|0) = 0.6464466094067263\n",
      "P(0|1) = 0.3535533905932738\n"
     ]
    }
   ],
   "source": [
    "import math\n",
    "from channel.bsc import bsc_probability\n",
    "from algebraic.binary import Binary\n",
    "\n",
    "b0 = Binary(0)\n",
    "b1 = Binary(1)\n",
    "\n",
    "p = math.sqrt(2) / 4\n",
    "print(\"p = \" + str(p))\n",
    "print(\"P(0|0) = \" + str(bsc_probability(x=b0, y=b0, p=p)))\n",
    "print(\"P(0|1) = \" + str(bsc_probability(x=b1, y=b0, p=p)))"
   ],
   "metadata": {
    "collapsed": false
   }
  },
  {
   "cell_type": "markdown",
   "source": [
    "## Параметр Бхаттачарьи\n",
    "\n",
    "$$Z_{BSC} = \\sqrt{W(0|0) W(0|1)} + \\sqrt{W(1|0) W(1|1)} = (1-p)p + p(1-p) = 2p-2p^2$$"
   ],
   "metadata": {
    "collapsed": false
   }
  },
  {
   "cell_type": "code",
   "execution_count": 2,
   "outputs": [
    {
     "name": "stdout",
     "output_type": "stream",
     "text": [
      "Z = 0.4571067811865475\n"
     ]
    }
   ],
   "source": [
    "from channel.bsc import bsc_bhattacharyya\n",
    "\n",
    "print(\"Z = \" + str(bsc_bhattacharyya(p=p)))"
   ],
   "metadata": {
    "collapsed": false
   }
  },
  {
   "cell_type": "markdown",
   "source": [
    "## Критерий минимального расстояния Хэмминга\n",
    "\n",
    "$$\n",
    "\\underset{x}{\\operatorname{argmax}}P(y | x) =\n",
    "\\underset{x}{\\operatorname{argmax}} \\sum_{i=1}^{n} (1-p) \\Bigr(\\frac{p}{1-p}\\Bigl)^{\\delta(y_i, x_i)} \\sim\n",
    "\\underset{x}{\\operatorname{argmax}} \\sum_{i=1}^{n} \\Bigr(1-\\frac{1}{1-p}\\Bigl)^{\\delta(y_i, x_i)} \\sim\n",
    "\\underset{x}{\\operatorname{argmin}} \\sum_{i=1}^{n} \\delta(y_i, x_i) =\n",
    "\\underset{x}{\\operatorname{argmin}} d_H(y, x)\n",
    "$$"
   ],
   "metadata": {
    "collapsed": false
   }
  }
 ],
 "metadata": {
  "kernelspec": {
   "display_name": "Python 3",
   "language": "python",
   "name": "python3"
  },
  "language_info": {
   "codemirror_mode": {
    "name": "ipython",
    "version": 2
   },
   "file_extension": ".py",
   "mimetype": "text/x-python",
   "name": "python",
   "nbconvert_exporter": "python",
   "pygments_lexer": "ipython2",
   "version": "2.7.6"
  }
 },
 "nbformat": 4,
 "nbformat_minor": 0
}
