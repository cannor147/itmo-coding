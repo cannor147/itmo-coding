{
 "cells": [
  {
   "cell_type": "markdown",
   "source": [
    "# Двоичный стирающий канал"
   ],
   "metadata": {
    "collapsed": false
   }
  },
  {
   "cell_type": "markdown",
   "source": [
    "## Терминология\n",
    "\n",
    "Двоичный стирающий канал характеризуется:\n",
    "\n",
    "* $\\mathbb{X} = \\mathbb{B}$\n",
    "* $\\mathbb{Y} = \\mathbb{B} \\cup \\{ \\epsilon \\}$\n",
    "* Условное распределение $P_{Y|X}\\{y|x\\} = p^{\\delta(y, \\epsilon)} (1 - p)^{\\delta(y, x)} 0^{1 - \\delta(y, \\epsilon) - \\delta(y, x)}$"
   ],
   "metadata": {
    "collapsed": false
   }
  },
  {
   "cell_type": "code",
   "execution_count": 1,
   "outputs": [
    {
     "name": "stdout",
     "output_type": "stream",
     "text": [
      "p = 0.3535533905932738\n",
      "P(0|0) = 0.6464466094067263\n",
      "P(1|0) = 0\n",
      "P(ϵ|0) = 0.3535533905932738\n"
     ]
    }
   ],
   "source": [
    "import math\n",
    "from channel.bec import bec_probability, bec_bhattacharyya\n",
    "from algebraic.binary import Binary\n",
    "\n",
    "b0 = Binary(0)\n",
    "b1 = Binary(1)\n",
    "eps = 'ϵ'\n",
    "\n",
    "p = math.sqrt(2) / 4\n",
    "print(\"p = \" + str(p))\n",
    "print(\"P(0|0) = \" + str(bec_probability(x=b0, y=b0, p=p)))\n",
    "print(\"P(1|0) = \" + str(bec_probability(x=b0, y=b1, p=p)))\n",
    "print(\"P(ϵ|0) = \" + str(bec_probability(x=b0, y=eps, p=p)))"
   ],
   "metadata": {
    "collapsed": false
   }
  },
  {
   "cell_type": "markdown",
   "source": [
    "## Параметр Бхаттачарьи\n",
    "\n",
    "$$Z_{BEC} = \\sqrt{W(0|0) W(0|1)} + \\sqrt{W(1|0) W(1|1)} + \\sqrt{W(\\epsilon|0) W(\\epsilon|1)} = \\sqrt{W(\\epsilon|0) W(\\epsilon|1)} = p$$"
   ],
   "metadata": {
    "collapsed": false
   }
  },
  {
   "cell_type": "code",
   "execution_count": 2,
   "outputs": [
    {
     "name": "stdout",
     "output_type": "stream",
     "text": [
      "Z = 0.3535533905932738\n"
     ]
    }
   ],
   "source": [
    "print(\"Z = \" + str(bec_bhattacharyya(p=p)))"
   ],
   "metadata": {
    "collapsed": false
   }
  }
 ],
 "metadata": {
  "kernelspec": {
   "display_name": "Python 3",
   "language": "python",
   "name": "python3"
  },
  "language_info": {
   "codemirror_mode": {
    "name": "ipython",
    "version": 2
   },
   "file_extension": ".py",
   "mimetype": "text/x-python",
   "name": "python",
   "nbconvert_exporter": "python",
   "pygments_lexer": "ipython2",
   "version": "2.7.6"
  }
 },
 "nbformat": 4,
 "nbformat_minor": 0
}
