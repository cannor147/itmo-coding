{
 "cells": [
  {
   "cell_type": "markdown",
   "source": [
    "# Древовидные коды"
   ],
   "metadata": {
    "collapsed": false,
    "pycharm": {
     "name": "#%% md\n"
    }
   }
  },
  {
   "cell_type": "markdown",
   "source": [
    "## Терминология\n",
    "\n",
    "Пусть есть некоторое множество бесконечных последовательностей информационных символов $\\mathbb{W}$, которое отображается на множество последовательностей бесконечной длины $\\mathbb{C}$ над полем $\\mathbb{F}$. Пусть функция отображения называется $\\operatorname{encoding}: \\mathbb{W} \\rightarrow \\mathbb{С}$. Тогда будем называть древовидным кодом $\\mathcal{C} = \\operatorname{encoding}(\\mathbb{W})$.\n",
    "\n",
    "Пусть $x^{1 \\dots M}$ — последовательность первых $M$ элементов бесконечной последовательности. Древовидным $(n_0, k_0)$-кодом будем называть такой код, что для любого $M$ и для любых $c_1, c_2$ верно, что если $c_1^{1 \\dots M k_0} = c_2^{1 \\dots M k_0}$, то $\\operatorname{encoding}(c_1)^{1 \\dots M n_0} = \\operatorname{encoding}(c_2)^{1 \\dots M n_0}$."
   ],
   "metadata": {
    "collapsed": false,
    "pycharm": {
     "name": "#%% md\n"
    }
   }
  },
  {
   "cell_type": "markdown",
   "source": [
    "### Длина кодового ограничения\n",
    "\n",
    "Кодер древовидного кода может хранить в своей оперативной памяти $K$ последних информационных символов. Такая величина называется длиной кодового ограничения."
   ],
   "metadata": {
    "collapsed": false,
    "pycharm": {
     "name": "#%% md\n"
    }
   }
  },
  {
   "cell_type": "markdown",
   "source": [
    "### Линейность\n",
    "\n",
    "Будем называть древовидный код линейным, если для любых $\\alpha, \\beta \\in \\mathbb{F}$ и для любых $w_1, w_2 \\in \\mathbb{W}$ верно:\n",
    "\n",
    "$$\\operatorname{encoding}(\\alpha w_1 + \\beta w_2) = \\alpha\\operatorname{encoding}(w_1) + \\beta\\operatorname{encoding}(w_2)$$"
   ],
   "metadata": {
    "collapsed": false,
    "pycharm": {
     "name": "#%% md\n"
    }
   }
  },
  {
   "cell_type": "markdown",
   "source": [
    "### Свёрточный код\n",
    "\n",
    "Линейный древовидный $(n_0, k_0, q)$ код над полем $GF(q)$ с конечной длиной кодового ограничения называется свёрточным кодом."
   ],
   "metadata": {
    "collapsed": false,
    "pycharm": {
     "name": "#%% md\n"
    }
   }
  }
 ],
 "metadata": {
  "kernelspec": {
   "display_name": "Python 3",
   "language": "python",
   "name": "python3"
  },
  "language_info": {
   "codemirror_mode": {
    "name": "ipython",
    "version": 2
   },
   "file_extension": ".py",
   "mimetype": "text/x-python",
   "name": "python",
   "nbconvert_exporter": "python",
   "pygments_lexer": "ipython2",
   "version": "2.7.6"
  }
 },
 "nbformat": 4,
 "nbformat_minor": 0
}